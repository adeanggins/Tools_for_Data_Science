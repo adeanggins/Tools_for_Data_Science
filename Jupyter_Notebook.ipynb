{
 "cells": [
  {
   "cell_type": "markdown",
   "metadata": {},
   "source": [
    "<center>\n",
    "    <img src=\"https://s3-api.us-geo.objectstorage.softlayer.net/cf-courses-data/CognitiveClass/Logos/organization_logo/organization_logo.png\" width=\"300\" alt=\"cognitiveclass.ai logo\"  />\n",
    "</center>\n"
   ]
  },
  {
   "cell_type": "markdown",
   "metadata": {},
   "source": [
    "#### Add your code below following the instructions given in the course\n"
   ]
  },
  {
   "cell_type": "markdown",
   "metadata": {},
   "source": [
    "# My Jupyter Notebook on IBM Watson Studio"
   ]
  },
  {
   "cell_type": "markdown",
   "metadata": {},
   "source": [
    "**My Name is Ade Anggi Naluriawan Santoso.**</br>\n",
    "I am a Petroleum Engineer and has passion in data science. I have a goal to become a data scientist expert in Oil and Gas Industry."
   ]
  },
  {
   "cell_type": "markdown",
   "metadata": {},
   "source": [
    "*I am interested in data science because data science enables companies to efficiently understand gigantic data from multiple sources and derive valuable insights to make smarter data-driven decisions. Data science is widely used in various industry domains such as marketing, healthcare, finance, banking, policy work but not in oil and gas industry. That's why I see this as an opportunity to get ahead into data science for oil and gas industry implementation.*"
   ]
  },
  {
   "cell_type": "markdown",
   "metadata": {},
   "source": [
    "### In this code cell, python will execute a simple command to calculate and show result of 1 + 1"
   ]
  },
  {
   "cell_type": "code",
   "execution_count": 2,
   "metadata": {},
   "outputs": [
    {
     "data": {
      "text/plain": [
       "2"
      ]
     },
     "execution_count": 2,
     "metadata": {},
     "output_type": "execute_result"
    }
   ],
   "source": [
    "1+1"
   ]
  },
  {
   "cell_type": "markdown",
   "metadata": {},
   "source": [
    "The organizational importance of Data Science is continuously increasing. According to one study, the global Data Science market is expected to grow to $115 billion by 2023. Some of the many Data Science benefits include the following:</br>\n",
    "- In the healthcare industry, physicians use Data Science to analyze data from wearable trackers to ensure their patients’ well-being and make vital decisions. Data Science also enables hospital managers to reduce waiting time and enhance care.\n",
    "- Retailers use Data Science to enhance customer experience and retention.\n",
    "- Data Science is widely used in the banking and finance sectors for fraud detection and personalized financial advice.\n",
    "- Transportation providers use Data Science to enhance the transportation journeys of their customers. For instance, Transport for London maps customer journeys offering personalized transportation details, and manages unexpected circumstances using statistical data.\n",
    "- Construction companies use Data Science for better decision making by tracking activities, including average time for completing tasks, materials-based expenses, and more.\n",
    "- Data Science enables trapping and analyzing massive data from manufacturing processes, which has gone untapped so far.\n",
    "- With Data Science, one can analyze massive graphical data, temporal data, and geospatial data to draw insights. It also helps in seismic interpretation and reservoir characterization.\n",
    "- Data Science facilitates firms to leverage social media content to obtain real-time media content usage patterns. This enables the firms to create target audience-specific content, measure content performance, and recommend on-demand content.\n",
    "- Data Science helps study utility consumption in the energy and utility domain. This study allows for better control of utility use and enhanced consumer feedback.\n",
    "- Data Science applications in the public service field include health-related research, financial market analysis, fraud detection, energy exploration, environmental protection, and more.\n",
    "________\n",
    "Source: [Jigsaw Academy](https://www.jigsawacademy.com/blogs/data-science/importance-of-data-science/#:~:text=Data%20Science%20enables%20companies%20to,%2C%20policy%20work%2C%20and%20more.)\n",
    "________\n",
    "Data Science Domain:</br>\n",
    "<img src=\"https://d35fo82fjcw0y8.cloudfront.net/2019/01/17102218/data-science-in-marketing-post-venn-diagram.jpg\" alt=\"Data science is really the fusion of three disciplines: computer science, math, and business.\" title=\"Data Science Domain\" />\n",
    "________\n",
    "> \"Data science is a combination of three things: quantitative analysis (for the rigor required to understand your data), programming (to process your data and act on your insights), and narrative (to help people comprehend what the data means).\" - Darshan Somashekar"
   ]
  },
  {
   "cell_type": "code",
   "execution_count": null,
   "metadata": {},
   "outputs": [],
   "source": []
  }
 ],
 "metadata": {
  "kernelspec": {
   "display_name": "Python",
   "language": "python",
   "name": "conda-env-python-py"
  },
  "language_info": {
   "codemirror_mode": {
    "name": "ipython",
    "version": 3
   },
   "file_extension": ".py",
   "mimetype": "text/x-python",
   "name": "python",
   "nbconvert_exporter": "python",
   "pygments_lexer": "ipython3",
   "version": "3.7.12"
  }
 },
 "nbformat": 4,
 "nbformat_minor": 4
}
